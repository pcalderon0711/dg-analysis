{
 "cells": [
  {
   "cell_type": "code",
   "execution_count": 113,
   "metadata": {
    "collapsed": true
   },
   "outputs": [],
   "source": [
    "import gensim\n",
    "import numpy as np\n",
    "import pandas as pd\n",
    "from neurotools.io.gdrive import download_sheets_doc"
   ]
  },
  {
   "cell_type": "markdown",
   "metadata": {},
   "source": [
    "# PROCESS EMBEDDING AND DIMENSIONS"
   ]
  },
  {
   "cell_type": "markdown",
   "metadata": {},
   "source": [
    "## LOAD EMBEDDING AND DIMENSIONS"
   ]
  },
  {
   "cell_type": "code",
   "execution_count": 65,
   "metadata": {
    "collapsed": true
   },
   "outputs": [],
   "source": [
    "emb = gensim.models.KeyedVectors.load_word2vec_format('005_en_in_commoncrawl_v1_20180330.bin', binary=True)"
   ]
  },
  {
   "cell_type": "code",
   "execution_count": 95,
   "metadata": {
    "collapsed": true
   },
   "outputs": [],
   "source": [
    "def get_average_vector(words, emb):\n",
    "    \"\"\"\n",
    "        Average the word vectors of a list of words.\n",
    "    \"\"\"\n",
    "    words_in_emb = [emb[word] for word in words if word in emb.vocab.keys()]\n",
    "    total = np.sum(words_in_emb, axis=0)\n",
    "    count = len(words_in_emb)\n",
    "    return total / count"
   ]
  },
  {
   "cell_type": "code",
   "execution_count": 36,
   "metadata": {
    "collapsed": true
   },
   "outputs": [],
   "source": [
    "dimensions_doc_id = '1qa6hmUwjipTocTLIAIBEuObkzVGwWUvYXV04HjMw0BM'\n",
    "dimensions_doc = download_sheets_doc(dimensions_doc_id, has_column_labels=True)\n",
    "dimensions_nf = dimensions_doc['dimensions_v2.csv']\n",
    "dimensions_nf = dimensions_nf.loc[(dimensions_nf['whisky_relevant'] == '1') & (dimensions_nf['en'] != ''), ['en_label', 'en']]\n",
    "dimensions_nf['en_label'] = 'nf_' + dimensions_nf['en_label']"
   ]
  },
  {
   "cell_type": "code",
   "execution_count": 32,
   "metadata": {
    "scrolled": true
   },
   "outputs": [],
   "source": [
    "diageo_dimensions_doc_id = '1_OdlI2ieNMAXAepeqtjDIghRVj6Lgoaf9caiZK8jmkA'\n",
    "diageo_dimensions_doc = download_sheets_doc(diageo_dimensions_doc_id, has_column_labels=True)\n",
    "dimensions_diageo = diageo_dimensions_doc['Dimensions']\n",
    "dimensions_diageo = dimensions_diageo.loc[dimensions_diageo['Content'] != '', ['Dimension', 'Content']]\n",
    "dimensions_diageo['Dimension'] = 'dg_' + dimensions_diageo['Dimension']"
   ]
  },
  {
   "cell_type": "code",
   "execution_count": 227,
   "metadata": {
    "scrolled": true
   },
   "outputs": [],
   "source": [
    "dimensions_nf.columns = ['Dimension', 'Content']"
   ]
  },
  {
   "cell_type": "code",
   "execution_count": 228,
   "metadata": {},
   "outputs": [
    {
     "data": {
      "text/plain": [
       "(16, 2)"
      ]
     },
     "execution_count": 228,
     "metadata": {},
     "output_type": "execute_result"
    }
   ],
   "source": [
    "dimensions_nf.shape"
   ]
  },
  {
   "cell_type": "code",
   "execution_count": 229,
   "metadata": {},
   "outputs": [],
   "source": [
    "dimensions = pd.concat([dimensions_diageo, dimensions_nf], axis=0, ignore_index=True)"
   ]
  },
  {
   "cell_type": "markdown",
   "metadata": {},
   "source": [
    "## GET WORD VECTORS OF DIMENSIONS"
   ]
  },
  {
   "cell_type": "code",
   "execution_count": 231,
   "metadata": {},
   "outputs": [],
   "source": [
    "dimensions['tokens'] = dimensions['Content'].str.lower().str.replace(r'[^a-z ]', '').str.split()"
   ]
  },
  {
   "cell_type": "code",
   "execution_count": 232,
   "metadata": {
    "scrolled": true
   },
   "outputs": [],
   "source": [
    "dimensions['wv'] = dimensions['tokens'].map(lambda x: get_average_vector(x, emb))"
   ]
  },
  {
   "cell_type": "code",
   "execution_count": 233,
   "metadata": {},
   "outputs": [
    {
     "data": {
      "text/html": [
       "<div>\n",
       "<style scoped>\n",
       "    .dataframe tbody tr th:only-of-type {\n",
       "        vertical-align: middle;\n",
       "    }\n",
       "\n",
       "    .dataframe tbody tr th {\n",
       "        vertical-align: top;\n",
       "    }\n",
       "\n",
       "    .dataframe thead th {\n",
       "        text-align: right;\n",
       "    }\n",
       "</style>\n",
       "<table border=\"1\" class=\"dataframe\">\n",
       "  <thead>\n",
       "    <tr style=\"text-align: right;\">\n",
       "      <th></th>\n",
       "      <th>Dimension</th>\n",
       "      <th>Content</th>\n",
       "      <th>tokens</th>\n",
       "      <th>wv</th>\n",
       "    </tr>\n",
       "  </thead>\n",
       "  <tbody>\n",
       "    <tr>\n",
       "      <th>0</th>\n",
       "      <td>dg_Relaxed</td>\n",
       "      <td>relax unwind enjoy soothe calm serene leisurel...</td>\n",
       "      <td>[relax, unwind, enjoy, soothe, calm, serene, l...</td>\n",
       "      <td>[-0.38982093, 1.0310897, -0.3649658, -1.062084...</td>\n",
       "    </tr>\n",
       "    <tr>\n",
       "      <th>1</th>\n",
       "      <td>dg_Confident</td>\n",
       "      <td>confident optimistic hopeful reassure certainl...</td>\n",
       "      <td>[confident, optimistic, hopeful, reassure, cer...</td>\n",
       "      <td>[0.35235944, -2.103267, 0.75326306, -2.0183167...</td>\n",
       "    </tr>\n",
       "    <tr>\n",
       "      <th>2</th>\n",
       "      <td>dg_Welcoming</td>\n",
       "      <td>welcome greet warmly hospitable invite graciou...</td>\n",
       "      <td>[welcome, greet, warmly, hospitable, invite, g...</td>\n",
       "      <td>[0.32264853, -1.3409846, 0.8682901, -1.4583006...</td>\n",
       "    </tr>\n",
       "    <tr>\n",
       "      <th>3</th>\n",
       "      <td>dg_Social</td>\n",
       "      <td>social civil collective community cordial</td>\n",
       "      <td>[social, civil, collective, community, cordial]</td>\n",
       "      <td>[0.95336664, -1.0829761, 1.1170304, -0.0309140...</td>\n",
       "    </tr>\n",
       "    <tr>\n",
       "      <th>4</th>\n",
       "      <td>dg_Playful</td>\n",
       "      <td>playful delightful lighthearted lively flirtat...</td>\n",
       "      <td>[playful, delightful, lighthearted, lively, fl...</td>\n",
       "      <td>[-0.72059196, -0.50438666, -0.35774776, -1.436...</td>\n",
       "    </tr>\n",
       "  </tbody>\n",
       "</table>\n",
       "</div>"
      ],
      "text/plain": [
       "      Dimension                                            Content  \\\n",
       "0    dg_Relaxed  relax unwind enjoy soothe calm serene leisurel...   \n",
       "1  dg_Confident  confident optimistic hopeful reassure certainl...   \n",
       "2  dg_Welcoming  welcome greet warmly hospitable invite graciou...   \n",
       "3     dg_Social          social civil collective community cordial   \n",
       "4    dg_Playful  playful delightful lighthearted lively flirtat...   \n",
       "\n",
       "                                              tokens  \\\n",
       "0  [relax, unwind, enjoy, soothe, calm, serene, l...   \n",
       "1  [confident, optimistic, hopeful, reassure, cer...   \n",
       "2  [welcome, greet, warmly, hospitable, invite, g...   \n",
       "3    [social, civil, collective, community, cordial]   \n",
       "4  [playful, delightful, lighthearted, lively, fl...   \n",
       "\n",
       "                                                  wv  \n",
       "0  [-0.38982093, 1.0310897, -0.3649658, -1.062084...  \n",
       "1  [0.35235944, -2.103267, 0.75326306, -2.0183167...  \n",
       "2  [0.32264853, -1.3409846, 0.8682901, -1.4583006...  \n",
       "3  [0.95336664, -1.0829761, 1.1170304, -0.0309140...  \n",
       "4  [-0.72059196, -0.50438666, -0.35774776, -1.436...  "
      ]
     },
     "execution_count": 233,
     "metadata": {},
     "output_type": "execute_result"
    }
   ],
   "source": [
    "dimensions.head()"
   ]
  },
  {
   "cell_type": "code",
   "execution_count": 234,
   "metadata": {},
   "outputs": [
    {
     "data": {
      "text/plain": [
       "46"
      ]
     },
     "execution_count": 234,
     "metadata": {},
     "output_type": "execute_result"
    }
   ],
   "source": [
    "dimensions.shape[0]"
   ]
  },
  {
   "cell_type": "markdown",
   "metadata": {},
   "source": [
    "# LOAD CANDIDATE WORDS"
   ]
  },
  {
   "cell_type": "code",
   "execution_count": 236,
   "metadata": {},
   "outputs": [],
   "source": [
    "diageo_words_doc_id = '1Vc_NYmC69G0KkdvrUS79jhhu85p5wkhfGnwc9aHTDeM'\n",
    "diageo_words_doc = download_sheets_doc(diageo_words_doc_id, has_column_labels=True)"
   ]
  },
  {
   "cell_type": "code",
   "execution_count": 237,
   "metadata": {
    "collapsed": true
   },
   "outputs": [],
   "source": [
    "ingredients = ['malt', 'grain']\n",
    "flavors = ['sweet, sweetness',\n",
    "           'richness, rich',\n",
    "           'smooth, smoothness',\n",
    "           'fruity',\n",
    "           'woody wood taste']\n",
    "smart_thinking = ['streetwise, streetsmart, thinking, clever, sharp, ease', 'smooth, smoothness']"
   ]
  },
  {
   "cell_type": "code",
   "execution_count": 238,
   "metadata": {
    "collapsed": true
   },
   "outputs": [],
   "source": [
    "def get_words_from_df(df):\n",
    "    return list(df['Word'].values)"
   ]
  },
  {
   "cell_type": "code",
   "execution_count": 239,
   "metadata": {
    "scrolled": true
   },
   "outputs": [],
   "source": [
    "def get_words_for_hook(sheet_dict, hook_keys):\n",
    "    container = []\n",
    "    for key in hook_keys:\n",
    "        container.extend(get_words_from_df(sheet_dict[key]))\n",
    "    return set(container)"
   ]
  },
  {
   "cell_type": "code",
   "execution_count": 240,
   "metadata": {},
   "outputs": [],
   "source": [
    "words_ingredients = get_words_for_hook(diageo_words_doc, ingredients)\n",
    "words_flavors = get_words_for_hook(diageo_words_doc, flavors)\n",
    "words_smart_thinking = get_words_for_hook(diageo_words_doc, smart_thinking)"
   ]
  },
  {
   "cell_type": "code",
   "execution_count": 241,
   "metadata": {
    "collapsed": true
   },
   "outputs": [],
   "source": [
    "def get_df_for_hook(words):\n",
    "    df = pd.DataFrame(list(words), columns = ['word'])\n",
    "    df['wv'] = df['word'].map(lambda x: get_average_vector([x], emb))\n",
    "    return df"
   ]
  },
  {
   "cell_type": "code",
   "execution_count": 242,
   "metadata": {},
   "outputs": [],
   "source": [
    "df_ingredients = get_df_for_hook(words_ingredients)\n",
    "df_flavors = get_df_for_hook(words_flavors)\n",
    "df_smart_thinking = get_df_for_hook(words_smart_thinking)"
   ]
  },
  {
   "cell_type": "code",
   "execution_count": null,
   "metadata": {
    "collapsed": true
   },
   "outputs": [],
   "source": []
  },
  {
   "cell_type": "markdown",
   "metadata": {},
   "source": [
    "# GET SIMILARITY OF WORDS WITH DIMENSIONS"
   ]
  },
  {
   "cell_type": "code",
   "execution_count": 243,
   "metadata": {
    "collapsed": true
   },
   "outputs": [],
   "source": [
    "def cosine_similarity(a,b):\n",
    "    \"\"\"\n",
    "        Compute the cosine similarity of a and b.\n",
    "    \"\"\"\n",
    "    return np.dot(a,b) / ( (np.dot(a,a) **.5) * (np.dot(b,b) ** .5) )"
   ]
  },
  {
   "cell_type": "code",
   "execution_count": 244,
   "metadata": {
    "scrolled": true
   },
   "outputs": [],
   "source": [
    "def get_similarity_with_dimensions(row, dimensions):\n",
    "    \"\"\"\n",
    "        Get similarity of row's word vector and every dimension.\n",
    "        row : row of the movie dataframe\n",
    "        dimensions : dataframe containing Neuroflash dimensions\n",
    "    \"\"\"\n",
    "    for k in range(dimensions['Dimension'].shape[0]):\n",
    "        name = 'dim_' + str(dimensions['Dimension'].iloc[k])\n",
    "        # define a new column for the cosine similarity of dimension k and the post text\n",
    "        row[name] = cosine_similarity(row['wv'], dimensions['wv'].iloc[k])\n",
    "    return row"
   ]
  },
  {
   "cell_type": "code",
   "execution_count": 245,
   "metadata": {
    "scrolled": true
   },
   "outputs": [],
   "source": [
    "df_ingredients = df_ingredients.apply(lambda x: get_similarity_with_dimensions(x, dimensions), axis=1)\n",
    "df_flavors = df_flavors.apply(lambda x: get_similarity_with_dimensions(x, dimensions), axis=1)\n",
    "df_smart_thinking = df_smart_thinking.apply(lambda x: get_similarity_with_dimensions(x, dimensions), axis=1)"
   ]
  },
  {
   "cell_type": "code",
   "execution_count": 271,
   "metadata": {},
   "outputs": [],
   "source": [
    "df_ingredients.drop(columns=['wv']).to_csv('csv/sim_ingredients.csv', index=False)\n",
    "df_flavors.drop(columns=['wv']).to_csv('csv/sim_flavors.csv', index=False)\n",
    "df_smart_thinking.drop(columns=['wv']).to_csv('csv/sim_smart_thinking.csv', index=False)"
   ]
  },
  {
   "cell_type": "code",
   "execution_count": 273,
   "metadata": {},
   "outputs": [],
   "source": [
    "def sum_over_dimensions(df, nf_only = True):\n",
    "    if nf_only:\n",
    "        consider = df[[x for x in df.columns if 'dim_nf' in x]]\n",
    "        labels = ['word', 'sum_over_NF_dims']\n",
    "    else:\n",
    "        consider = df[[x for x in df.columns if 'dim' in x]]\n",
    "        labels = ['word', 'sum_over_dims']\n",
    "    sum_df = pd.concat([df.iloc[:,0], consider.sum(axis=1)], axis=1)\n",
    "    sum_df.columns = labels\n",
    "    return sum_df.sort_values(labels[1], ascending=False)"
   ]
  },
  {
   "cell_type": "code",
   "execution_count": 274,
   "metadata": {},
   "outputs": [
    {
     "data": {
      "text/html": [
       "<div>\n",
       "<style scoped>\n",
       "    .dataframe tbody tr th:only-of-type {\n",
       "        vertical-align: middle;\n",
       "    }\n",
       "\n",
       "    .dataframe tbody tr th {\n",
       "        vertical-align: top;\n",
       "    }\n",
       "\n",
       "    .dataframe thead th {\n",
       "        text-align: right;\n",
       "    }\n",
       "</style>\n",
       "<table border=\"1\" class=\"dataframe\">\n",
       "  <thead>\n",
       "    <tr style=\"text-align: right;\">\n",
       "      <th></th>\n",
       "      <th>word</th>\n",
       "      <th>sum_over_NF_dims</th>\n",
       "    </tr>\n",
       "  </thead>\n",
       "  <tbody>\n",
       "    <tr>\n",
       "      <th>5</th>\n",
       "      <td>fruity</td>\n",
       "      <td>3.792745</td>\n",
       "    </tr>\n",
       "    <tr>\n",
       "      <th>31</th>\n",
       "      <td>malty</td>\n",
       "      <td>2.847420</td>\n",
       "    </tr>\n",
       "    <tr>\n",
       "      <th>7</th>\n",
       "      <td>vegetable</td>\n",
       "      <td>2.004845</td>\n",
       "    </tr>\n",
       "    <tr>\n",
       "      <th>10</th>\n",
       "      <td>coarse</td>\n",
       "      <td>1.630495</td>\n",
       "    </tr>\n",
       "    <tr>\n",
       "      <th>86</th>\n",
       "      <td>unprocessed</td>\n",
       "      <td>1.604073</td>\n",
       "    </tr>\n",
       "    <tr>\n",
       "      <th>59</th>\n",
       "      <td>grain</td>\n",
       "      <td>1.601987</td>\n",
       "    </tr>\n",
       "    <tr>\n",
       "      <th>38</th>\n",
       "      <td>starchy</td>\n",
       "      <td>1.573729</td>\n",
       "    </tr>\n",
       "    <tr>\n",
       "      <th>9</th>\n",
       "      <td>beer</td>\n",
       "      <td>1.475540</td>\n",
       "    </tr>\n",
       "    <tr>\n",
       "      <th>96</th>\n",
       "      <td>vermouth</td>\n",
       "      <td>1.452845</td>\n",
       "    </tr>\n",
       "    <tr>\n",
       "      <th>63</th>\n",
       "      <td>tipple</td>\n",
       "      <td>1.447242</td>\n",
       "    </tr>\n",
       "    <tr>\n",
       "      <th>24</th>\n",
       "      <td>whisky</td>\n",
       "      <td>1.430165</td>\n",
       "    </tr>\n",
       "    <tr>\n",
       "      <th>33</th>\n",
       "      <td>milk</td>\n",
       "      <td>1.418264</td>\n",
       "    </tr>\n",
       "    <tr>\n",
       "      <th>41</th>\n",
       "      <td>distill</td>\n",
       "      <td>1.395086</td>\n",
       "    </tr>\n",
       "    <tr>\n",
       "      <th>91</th>\n",
       "      <td>vodka</td>\n",
       "      <td>1.344687</td>\n",
       "    </tr>\n",
       "    <tr>\n",
       "      <th>70</th>\n",
       "      <td>cointreau</td>\n",
       "      <td>1.332995</td>\n",
       "    </tr>\n",
       "    <tr>\n",
       "      <th>79</th>\n",
       "      <td>malt</td>\n",
       "      <td>1.321468</td>\n",
       "    </tr>\n",
       "    <tr>\n",
       "      <th>43</th>\n",
       "      <td>scotch</td>\n",
       "      <td>1.218355</td>\n",
       "    </tr>\n",
       "    <tr>\n",
       "      <th>53</th>\n",
       "      <td>harvest</td>\n",
       "      <td>1.212052</td>\n",
       "    </tr>\n",
       "    <tr>\n",
       "      <th>62</th>\n",
       "      <td>crop</td>\n",
       "      <td>1.211005</td>\n",
       "    </tr>\n",
       "    <tr>\n",
       "      <th>90</th>\n",
       "      <td>whiskey</td>\n",
       "      <td>1.208567</td>\n",
       "    </tr>\n",
       "  </tbody>\n",
       "</table>\n",
       "</div>"
      ],
      "text/plain": [
       "           word  sum_over_NF_dims\n",
       "5        fruity          3.792745\n",
       "31        malty          2.847420\n",
       "7     vegetable          2.004845\n",
       "10       coarse          1.630495\n",
       "86  unprocessed          1.604073\n",
       "59        grain          1.601987\n",
       "38      starchy          1.573729\n",
       "9          beer          1.475540\n",
       "96     vermouth          1.452845\n",
       "63       tipple          1.447242\n",
       "24       whisky          1.430165\n",
       "33         milk          1.418264\n",
       "41      distill          1.395086\n",
       "91        vodka          1.344687\n",
       "70    cointreau          1.332995\n",
       "79         malt          1.321468\n",
       "43       scotch          1.218355\n",
       "53      harvest          1.212052\n",
       "62         crop          1.211005\n",
       "90      whiskey          1.208567"
      ]
     },
     "execution_count": 274,
     "metadata": {},
     "output_type": "execute_result"
    }
   ],
   "source": [
    "sum_over_dimensions(df_ingredients).head(20)"
   ]
  },
  {
   "cell_type": "code",
   "execution_count": 275,
   "metadata": {
    "scrolled": false
   },
   "outputs": [
    {
     "data": {
      "text/html": [
       "<div>\n",
       "<style scoped>\n",
       "    .dataframe tbody tr th:only-of-type {\n",
       "        vertical-align: middle;\n",
       "    }\n",
       "\n",
       "    .dataframe tbody tr th {\n",
       "        vertical-align: top;\n",
       "    }\n",
       "\n",
       "    .dataframe thead th {\n",
       "        text-align: right;\n",
       "    }\n",
       "</style>\n",
       "<table border=\"1\" class=\"dataframe\">\n",
       "  <thead>\n",
       "    <tr style=\"text-align: right;\">\n",
       "      <th></th>\n",
       "      <th>word</th>\n",
       "      <th>sum_over_NF_dims</th>\n",
       "    </tr>\n",
       "  </thead>\n",
       "  <tbody>\n",
       "    <tr>\n",
       "      <th>104</th>\n",
       "      <td>truly</td>\n",
       "      <td>5.599674</td>\n",
       "    </tr>\n",
       "    <tr>\n",
       "      <th>43</th>\n",
       "      <td>charm</td>\n",
       "      <td>5.391906</td>\n",
       "    </tr>\n",
       "    <tr>\n",
       "      <th>60</th>\n",
       "      <td>wonderfully</td>\n",
       "      <td>5.264797</td>\n",
       "    </tr>\n",
       "    <tr>\n",
       "      <th>77</th>\n",
       "      <td>subtle</td>\n",
       "      <td>5.234277</td>\n",
       "    </tr>\n",
       "    <tr>\n",
       "      <th>53</th>\n",
       "      <td>vibrant</td>\n",
       "      <td>5.204802</td>\n",
       "    </tr>\n",
       "    <tr>\n",
       "      <th>109</th>\n",
       "      <td>comfortable</td>\n",
       "      <td>5.190671</td>\n",
       "    </tr>\n",
       "    <tr>\n",
       "      <th>188</th>\n",
       "      <td>unique</td>\n",
       "      <td>5.128155</td>\n",
       "    </tr>\n",
       "    <tr>\n",
       "      <th>166</th>\n",
       "      <td>delicate</td>\n",
       "      <td>4.999129</td>\n",
       "    </tr>\n",
       "    <tr>\n",
       "      <th>26</th>\n",
       "      <td>earthy</td>\n",
       "      <td>4.872749</td>\n",
       "    </tr>\n",
       "    <tr>\n",
       "      <th>20</th>\n",
       "      <td>exquisite</td>\n",
       "      <td>4.834724</td>\n",
       "    </tr>\n",
       "    <tr>\n",
       "      <th>134</th>\n",
       "      <td>deliciously</td>\n",
       "      <td>4.817574</td>\n",
       "    </tr>\n",
       "    <tr>\n",
       "      <th>11</th>\n",
       "      <td>sophistication</td>\n",
       "      <td>4.791359</td>\n",
       "    </tr>\n",
       "    <tr>\n",
       "      <th>171</th>\n",
       "      <td>perfectly</td>\n",
       "      <td>4.754438</td>\n",
       "    </tr>\n",
       "    <tr>\n",
       "      <th>97</th>\n",
       "      <td>vibrancy</td>\n",
       "      <td>4.748729</td>\n",
       "    </tr>\n",
       "    <tr>\n",
       "      <th>132</th>\n",
       "      <td>richness</td>\n",
       "      <td>4.682832</td>\n",
       "    </tr>\n",
       "    <tr>\n",
       "      <th>89</th>\n",
       "      <td>elegance</td>\n",
       "      <td>4.664429</td>\n",
       "    </tr>\n",
       "    <tr>\n",
       "      <th>2</th>\n",
       "      <td>luscious</td>\n",
       "      <td>4.644228</td>\n",
       "    </tr>\n",
       "    <tr>\n",
       "      <th>27</th>\n",
       "      <td>luxurious</td>\n",
       "      <td>4.605415</td>\n",
       "    </tr>\n",
       "    <tr>\n",
       "      <th>87</th>\n",
       "      <td>decadent</td>\n",
       "      <td>4.589819</td>\n",
       "    </tr>\n",
       "    <tr>\n",
       "      <th>131</th>\n",
       "      <td>effortless</td>\n",
       "      <td>4.583854</td>\n",
       "    </tr>\n",
       "  </tbody>\n",
       "</table>\n",
       "</div>"
      ],
      "text/plain": [
       "               word  sum_over_NF_dims\n",
       "104           truly          5.599674\n",
       "43            charm          5.391906\n",
       "60      wonderfully          5.264797\n",
       "77           subtle          5.234277\n",
       "53          vibrant          5.204802\n",
       "109     comfortable          5.190671\n",
       "188          unique          5.128155\n",
       "166        delicate          4.999129\n",
       "26           earthy          4.872749\n",
       "20        exquisite          4.834724\n",
       "134     deliciously          4.817574\n",
       "11   sophistication          4.791359\n",
       "171       perfectly          4.754438\n",
       "97         vibrancy          4.748729\n",
       "132        richness          4.682832\n",
       "89         elegance          4.664429\n",
       "2          luscious          4.644228\n",
       "27        luxurious          4.605415\n",
       "87         decadent          4.589819\n",
       "131      effortless          4.583854"
      ]
     },
     "execution_count": 275,
     "metadata": {},
     "output_type": "execute_result"
    }
   ],
   "source": [
    "sum_over_dimensions(df_flavors).head(20)"
   ]
  },
  {
   "cell_type": "code",
   "execution_count": 276,
   "metadata": {
    "scrolled": false
   },
   "outputs": [
    {
     "data": {
      "text/html": [
       "<div>\n",
       "<style scoped>\n",
       "    .dataframe tbody tr th:only-of-type {\n",
       "        vertical-align: middle;\n",
       "    }\n",
       "\n",
       "    .dataframe tbody tr th {\n",
       "        vertical-align: top;\n",
       "    }\n",
       "\n",
       "    .dataframe thead th {\n",
       "        text-align: right;\n",
       "    }\n",
       "</style>\n",
       "<table border=\"1\" class=\"dataframe\">\n",
       "  <thead>\n",
       "    <tr style=\"text-align: right;\">\n",
       "      <th></th>\n",
       "      <th>word</th>\n",
       "      <th>sum_over_NF_dims</th>\n",
       "    </tr>\n",
       "  </thead>\n",
       "  <tbody>\n",
       "    <tr>\n",
       "      <th>71</th>\n",
       "      <td>attractive</td>\n",
       "      <td>5.384535</td>\n",
       "    </tr>\n",
       "    <tr>\n",
       "      <th>39</th>\n",
       "      <td>subtle</td>\n",
       "      <td>5.234277</td>\n",
       "    </tr>\n",
       "    <tr>\n",
       "      <th>53</th>\n",
       "      <td>comfortable</td>\n",
       "      <td>5.190671</td>\n",
       "    </tr>\n",
       "    <tr>\n",
       "      <th>0</th>\n",
       "      <td>simplicity</td>\n",
       "      <td>5.079498</td>\n",
       "    </tr>\n",
       "    <tr>\n",
       "      <th>49</th>\n",
       "      <td>sophisticate</td>\n",
       "      <td>5.023508</td>\n",
       "    </tr>\n",
       "    <tr>\n",
       "      <th>78</th>\n",
       "      <td>delicate</td>\n",
       "      <td>4.999129</td>\n",
       "    </tr>\n",
       "    <tr>\n",
       "      <th>81</th>\n",
       "      <td>perfectly</td>\n",
       "      <td>4.754438</td>\n",
       "    </tr>\n",
       "    <tr>\n",
       "      <th>64</th>\n",
       "      <td>effortless</td>\n",
       "      <td>4.583854</td>\n",
       "    </tr>\n",
       "    <tr>\n",
       "      <th>74</th>\n",
       "      <td>simple</td>\n",
       "      <td>4.563620</td>\n",
       "    </tr>\n",
       "    <tr>\n",
       "      <th>79</th>\n",
       "      <td>gentle</td>\n",
       "      <td>4.551089</td>\n",
       "    </tr>\n",
       "    <tr>\n",
       "      <th>25</th>\n",
       "      <td>accentuate</td>\n",
       "      <td>4.381770</td>\n",
       "    </tr>\n",
       "    <tr>\n",
       "      <th>67</th>\n",
       "      <td>surprisingly</td>\n",
       "      <td>4.348716</td>\n",
       "    </tr>\n",
       "    <tr>\n",
       "      <th>20</th>\n",
       "      <td>texture</td>\n",
       "      <td>4.217356</td>\n",
       "    </tr>\n",
       "    <tr>\n",
       "      <th>46</th>\n",
       "      <td>effortlessly</td>\n",
       "      <td>4.139211</td>\n",
       "    </tr>\n",
       "    <tr>\n",
       "      <th>70</th>\n",
       "      <td>punchy</td>\n",
       "      <td>3.987454</td>\n",
       "    </tr>\n",
       "    <tr>\n",
       "      <th>43</th>\n",
       "      <td>sleek</td>\n",
       "      <td>3.983890</td>\n",
       "    </tr>\n",
       "    <tr>\n",
       "      <th>47</th>\n",
       "      <td>simplistic</td>\n",
       "      <td>3.910416</td>\n",
       "    </tr>\n",
       "    <tr>\n",
       "      <th>31</th>\n",
       "      <td>predictable</td>\n",
       "      <td>3.825299</td>\n",
       "    </tr>\n",
       "    <tr>\n",
       "      <th>66</th>\n",
       "      <td>smoothness</td>\n",
       "      <td>3.720881</td>\n",
       "    </tr>\n",
       "    <tr>\n",
       "      <th>90</th>\n",
       "      <td>velvety</td>\n",
       "      <td>3.686019</td>\n",
       "    </tr>\n",
       "  </tbody>\n",
       "</table>\n",
       "</div>"
      ],
      "text/plain": [
       "            word  sum_over_NF_dims\n",
       "71    attractive          5.384535\n",
       "39        subtle          5.234277\n",
       "53   comfortable          5.190671\n",
       "0     simplicity          5.079498\n",
       "49  sophisticate          5.023508\n",
       "78      delicate          4.999129\n",
       "81     perfectly          4.754438\n",
       "64    effortless          4.583854\n",
       "74        simple          4.563620\n",
       "79        gentle          4.551089\n",
       "25    accentuate          4.381770\n",
       "67  surprisingly          4.348716\n",
       "20       texture          4.217356\n",
       "46  effortlessly          4.139211\n",
       "70        punchy          3.987454\n",
       "43         sleek          3.983890\n",
       "47    simplistic          3.910416\n",
       "31   predictable          3.825299\n",
       "66    smoothness          3.720881\n",
       "90       velvety          3.686019"
      ]
     },
     "execution_count": 276,
     "metadata": {},
     "output_type": "execute_result"
    }
   ],
   "source": [
    "sum_over_dimensions(df_smart_thinking).head(20)"
   ]
  },
  {
   "cell_type": "code",
   "execution_count": 277,
   "metadata": {
    "collapsed": true
   },
   "outputs": [],
   "source": [
    "sum_over_dimensions(df_ingredients).to_csv('csv/top_ingredients.csv', index=False)\n",
    "sum_over_dimensions(df_flavors).to_csv('csv/top_flavors.csv', index=False)\n",
    "sum_over_dimensions(df_smart_thinking).to_csv('csv/top_smart_thinking.csv', index=False)"
   ]
  },
  {
   "cell_type": "code",
   "execution_count": null,
   "metadata": {
    "collapsed": true
   },
   "outputs": [],
   "source": []
  }
 ],
 "metadata": {
  "kernelspec": {
   "display_name": "Python 3",
   "language": "python",
   "name": "python3"
  },
  "language_info": {
   "codemirror_mode": {
    "name": "ipython",
    "version": 3
   },
   "file_extension": ".py",
   "mimetype": "text/x-python",
   "name": "python",
   "nbconvert_exporter": "python",
   "pygments_lexer": "ipython3",
   "version": "3.6.1"
  }
 },
 "nbformat": 4,
 "nbformat_minor": 2
}
