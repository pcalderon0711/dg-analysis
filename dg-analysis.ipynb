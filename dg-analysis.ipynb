{
 "cells": [
  {
   "cell_type": "code",
   "execution_count": 76,
   "metadata": {
    "collapsed": true
   },
   "outputs": [],
   "source": [
    "import gensim\n",
    "import numpy as np\n",
    "import pandas as pd\n",
    "import seaborn as sns\n",
    "import matplotlib.pyplot as plt\n",
    "from neurotools.io.gdrive import download_sheets_doc\n",
    "from neurotools.io.files import load_embedding_model\n",
    "%matplotlib inline\n"
   ]
  },
  {
   "cell_type": "markdown",
   "metadata": {},
   "source": [
    "# PROCESS EMBEDDING AND DIMENSIONS"
   ]
  },
  {
   "cell_type": "markdown",
   "metadata": {},
   "source": [
    "## LOAD EMBEDDING AND DIMENSIONS"
   ]
  },
  {
   "cell_type": "code",
   "execution_count": 77,
   "metadata": {
    "collapsed": true
   },
   "outputs": [],
   "source": [
    "emb, word2rank_dict = load_embedding_model('005_en_in_commoncrawl_v1_20180330.bin')"
   ]
  },
  {
   "cell_type": "code",
   "execution_count": 96,
   "metadata": {
    "collapsed": true
   },
   "outputs": [],
   "source": [
    "cutoff = round((1/5)*len(word2rank_dict))"
   ]
  },
  {
   "cell_type": "code",
   "execution_count": 98,
   "metadata": {
    "collapsed": true
   },
   "outputs": [],
   "source": [
    "def get_average_vector(words, emb):\n",
    "    \"\"\"\n",
    "        Average the word vectors of a list of words.\n",
    "    \"\"\"\n",
    "    words_in_emb = [emb[word] for word in words if word in emb.vocab.keys()]\n",
    "    total = np.sum(words_in_emb, axis=0)\n",
    "    count = len(words_in_emb)\n",
    "    return total / count"
   ]
  },
  {
   "cell_type": "code",
   "execution_count": 56,
   "metadata": {
    "collapsed": true
   },
   "outputs": [],
   "source": [
    "dimensions_doc_id = '1qa6hmUwjipTocTLIAIBEuObkzVGwWUvYXV04HjMw0BM'\n",
    "dimensions_doc = download_sheets_doc(dimensions_doc_id, has_column_labels=True)\n",
    "dimensions_nf = dimensions_doc['dimensions_v2.csv']\n",
    "dimensions_nf = dimensions_nf.loc[(dimensions_nf['whisky_relevant'] == '1') & (dimensions_nf['en'] != ''), ['en_label', 'en']]\n",
    "dimensions_nf['en_label'] = 'nf_' + dimensions_nf['en_label']"
   ]
  },
  {
   "cell_type": "code",
   "execution_count": 57,
   "metadata": {
    "collapsed": true,
    "scrolled": true
   },
   "outputs": [],
   "source": [
    "diageo_dimensions_doc_id = '1_OdlI2ieNMAXAepeqtjDIghRVj6Lgoaf9caiZK8jmkA'\n",
    "diageo_dimensions_doc = download_sheets_doc(diageo_dimensions_doc_id, has_column_labels=True)\n",
    "dimensions_diageo = diageo_dimensions_doc['Dimensions']\n",
    "dimensions_diageo = dimensions_diageo.loc[dimensions_diageo['Content'] != '', ['Dimension', 'Content']]\n",
    "dimensions_diageo['Dimension'] = 'dg_' + dimensions_diageo['Dimension']"
   ]
  },
  {
   "cell_type": "code",
   "execution_count": 58,
   "metadata": {
    "collapsed": true,
    "scrolled": true
   },
   "outputs": [],
   "source": [
    "dimensions_nf.columns = ['Dimension', 'Content']"
   ]
  },
  {
   "cell_type": "code",
   "execution_count": 59,
   "metadata": {},
   "outputs": [
    {
     "data": {
      "text/plain": [
       "(16, 2)"
      ]
     },
     "execution_count": 59,
     "metadata": {},
     "output_type": "execute_result"
    }
   ],
   "source": [
    "dimensions_nf.shape"
   ]
  },
  {
   "cell_type": "code",
   "execution_count": 60,
   "metadata": {
    "collapsed": true
   },
   "outputs": [],
   "source": [
    "dimensions = pd.concat([dimensions_diageo, dimensions_nf], axis=0, ignore_index=True)"
   ]
  },
  {
   "cell_type": "code",
   "execution_count": 62,
   "metadata": {},
   "outputs": [],
   "source": [
    "dimensions.append{}"
   ]
  },
  {
   "cell_type": "code",
   "execution_count": 63,
   "metadata": {
    "scrolled": false
   },
   "outputs": [
    {
     "data": {
      "text/html": [
       "<div>\n",
       "<style scoped>\n",
       "    .dataframe tbody tr th:only-of-type {\n",
       "        vertical-align: middle;\n",
       "    }\n",
       "\n",
       "    .dataframe tbody tr th {\n",
       "        vertical-align: top;\n",
       "    }\n",
       "\n",
       "    .dataframe thead th {\n",
       "        text-align: right;\n",
       "    }\n",
       "</style>\n",
       "<table border=\"1\" class=\"dataframe\">\n",
       "  <thead>\n",
       "    <tr style=\"text-align: right;\">\n",
       "      <th></th>\n",
       "      <th>Dimension</th>\n",
       "      <th>Content</th>\n",
       "    </tr>\n",
       "  </thead>\n",
       "  <tbody>\n",
       "    <tr>\n",
       "      <th>0</th>\n",
       "      <td>dg_Relaxed</td>\n",
       "      <td>relax unwind enjoy soothe calm serene leisurel...</td>\n",
       "    </tr>\n",
       "    <tr>\n",
       "      <th>1</th>\n",
       "      <td>dg_Confident</td>\n",
       "      <td>confident optimistic hopeful reassure certainl...</td>\n",
       "    </tr>\n",
       "    <tr>\n",
       "      <th>2</th>\n",
       "      <td>dg_Welcoming</td>\n",
       "      <td>welcome greet warmly hospitable invite graciou...</td>\n",
       "    </tr>\n",
       "    <tr>\n",
       "      <th>3</th>\n",
       "      <td>dg_Social</td>\n",
       "      <td>social civil collective community cordial</td>\n",
       "    </tr>\n",
       "    <tr>\n",
       "      <th>4</th>\n",
       "      <td>dg_Playful</td>\n",
       "      <td>playful delightful lighthearted lively flirtat...</td>\n",
       "    </tr>\n",
       "    <tr>\n",
       "      <th>5</th>\n",
       "      <td>dg_Street-Smart</td>\n",
       "      <td>hardened astute cunning experienced savvy stre...</td>\n",
       "    </tr>\n",
       "    <tr>\n",
       "      <th>6</th>\n",
       "      <td>dg_Progressive</td>\n",
       "      <td>progressive dynamic enlightened modern</td>\n",
       "    </tr>\n",
       "    <tr>\n",
       "      <th>7</th>\n",
       "      <td>dg_Stylish</td>\n",
       "      <td>stylish classy chic trendy elegant fashionable...</td>\n",
       "    </tr>\n",
       "    <tr>\n",
       "      <th>8</th>\n",
       "      <td>dg_Inspiring</td>\n",
       "      <td>inspired inspiration passionate incredible upl...</td>\n",
       "    </tr>\n",
       "    <tr>\n",
       "      <th>9</th>\n",
       "      <td>dg_Authentic</td>\n",
       "      <td>authentic genuine unique unpretentious</td>\n",
       "    </tr>\n",
       "    <tr>\n",
       "      <th>10</th>\n",
       "      <td>dg_Friendly</td>\n",
       "      <td>friendly courteous polite attentive nice enthu...</td>\n",
       "    </tr>\n",
       "    <tr>\n",
       "      <th>11</th>\n",
       "      <td>dg_Bold</td>\n",
       "      <td>bold forceful adventurous courageous daring fe...</td>\n",
       "    </tr>\n",
       "    <tr>\n",
       "      <th>12</th>\n",
       "      <td>dg_Inclusive</td>\n",
       "      <td>inclusive broad comprehensive involve represen...</td>\n",
       "    </tr>\n",
       "    <tr>\n",
       "      <th>13</th>\n",
       "      <td>dg_Fun</td>\n",
       "      <td>fun playful frolic enjoy amuse excite adventure</td>\n",
       "    </tr>\n",
       "    <tr>\n",
       "      <th>14</th>\n",
       "      <td>dg_Passionate</td>\n",
       "      <td>passionate enthusiastic intensely energetic ha...</td>\n",
       "    </tr>\n",
       "    <tr>\n",
       "      <th>15</th>\n",
       "      <td>dg_Refined</td>\n",
       "      <td>refine sophisticate distilled elegant aestheti...</td>\n",
       "    </tr>\n",
       "    <tr>\n",
       "      <th>16</th>\n",
       "      <td>dg_pungent</td>\n",
       "      <td>pungent acid acrid aromatic sharp</td>\n",
       "    </tr>\n",
       "    <tr>\n",
       "      <th>17</th>\n",
       "      <td>dg_bland</td>\n",
       "      <td>bland boring dull insipid tame watery</td>\n",
       "    </tr>\n",
       "    <tr>\n",
       "      <th>18</th>\n",
       "      <td>dg_bitter</td>\n",
       "      <td>bitter harsh sour acid astringent tart</td>\n",
       "    </tr>\n",
       "    <tr>\n",
       "      <th>19</th>\n",
       "      <td>dg_caramellic</td>\n",
       "      <td>caramellic, caramel</td>\n",
       "    </tr>\n",
       "    <tr>\n",
       "      <th>20</th>\n",
       "      <td>dg_malt</td>\n",
       "      <td>malt</td>\n",
       "    </tr>\n",
       "    <tr>\n",
       "      <th>21</th>\n",
       "      <td>dg_raw</td>\n",
       "      <td>raw basic coarse crude natural rough native</td>\n",
       "    </tr>\n",
       "    <tr>\n",
       "      <th>22</th>\n",
       "      <td>dg_smooth</td>\n",
       "      <td>smooth creamy easy fluid gentle mild serene si...</td>\n",
       "    </tr>\n",
       "    <tr>\n",
       "      <th>23</th>\n",
       "      <td>dg_spicy</td>\n",
       "      <td>spicy aromatic fiery hot piquant</td>\n",
       "    </tr>\n",
       "    <tr>\n",
       "      <th>24</th>\n",
       "      <td>dg_sweet</td>\n",
       "      <td>sweet syrupy honeyed candy sugar</td>\n",
       "    </tr>\n",
       "    <tr>\n",
       "      <th>25</th>\n",
       "      <td>dg_smoky</td>\n",
       "      <td>smoky bruning dingy smoldering</td>\n",
       "    </tr>\n",
       "    <tr>\n",
       "      <th>26</th>\n",
       "      <td>dg_fullness, complexity</td>\n",
       "      <td>fulness saturation totality wholeness ampleness</td>\n",
       "    </tr>\n",
       "    <tr>\n",
       "      <th>27</th>\n",
       "      <td>dg_grain</td>\n",
       "      <td>grain corn</td>\n",
       "    </tr>\n",
       "    <tr>\n",
       "      <th>28</th>\n",
       "      <td>dg_matured</td>\n",
       "      <td>matured cultivated cultured aged ripe</td>\n",
       "    </tr>\n",
       "    <tr>\n",
       "      <th>29</th>\n",
       "      <td>dg_vanilla, confectionery</td>\n",
       "      <td>vanilla confectionery</td>\n",
       "    </tr>\n",
       "    <tr>\n",
       "      <th>30</th>\n",
       "      <td>nf_appealing</td>\n",
       "      <td>loved love positive desireable desire want asp...</td>\n",
       "    </tr>\n",
       "    <tr>\n",
       "      <th>31</th>\n",
       "      <td>nf_expensive</td>\n",
       "      <td>Costly Extravagant Pricey Upscale</td>\n",
       "    </tr>\n",
       "    <tr>\n",
       "      <th>32</th>\n",
       "      <td>nf_fascination</td>\n",
       "      <td>fascination fascinated inspired intrigued capt...</td>\n",
       "    </tr>\n",
       "    <tr>\n",
       "      <th>33</th>\n",
       "      <td>nf_fresh</td>\n",
       "      <td>fresh activate, awaken/wake, rebirth, refresh,...</td>\n",
       "    </tr>\n",
       "    <tr>\n",
       "      <th>34</th>\n",
       "      <td>nf_healthy_positive</td>\n",
       "      <td>high-antioxidant vitamin rich healthy energy-b...</td>\n",
       "    </tr>\n",
       "    <tr>\n",
       "      <th>35</th>\n",
       "      <td>nf_winner</td>\n",
       "      <td>winner champ first award medal champion pride ...</td>\n",
       "    </tr>\n",
       "    <tr>\n",
       "      <th>36</th>\n",
       "      <td>nf_mild</td>\n",
       "      <td>mild safe, (skin) friendly, natural, harmony, ...</td>\n",
       "    </tr>\n",
       "    <tr>\n",
       "      <th>37</th>\n",
       "      <td>nf_modern</td>\n",
       "      <td>Contemporary, Current, Present-day, Latest, Fr...</td>\n",
       "    </tr>\n",
       "    <tr>\n",
       "      <th>38</th>\n",
       "      <td>nf_natural</td>\n",
       "      <td>natural balanced beneficial biodegradable biod...</td>\n",
       "    </tr>\n",
       "    <tr>\n",
       "      <th>39</th>\n",
       "      <td>nf_new</td>\n",
       "      <td>new fresh all_new brand_new model</td>\n",
       "    </tr>\n",
       "    <tr>\n",
       "      <th>40</th>\n",
       "      <td>nf_pleasant</td>\n",
       "      <td>caress freedom health love peace cheer friend ...</td>\n",
       "    </tr>\n",
       "    <tr>\n",
       "      <th>41</th>\n",
       "      <td>nf_attractive</td>\n",
       "      <td>aesthetic appealing artful attractive awe-insp...</td>\n",
       "    </tr>\n",
       "    <tr>\n",
       "      <th>42</th>\n",
       "      <td>nf_Tasty</td>\n",
       "      <td>delectable delicious delightful dreamy enjoyab...</td>\n",
       "    </tr>\n",
       "    <tr>\n",
       "      <th>43</th>\n",
       "      <td>nf_trendy</td>\n",
       "      <td>trendy, trendy, stylish, fashionable, up-to-da...</td>\n",
       "    </tr>\n",
       "    <tr>\n",
       "      <th>44</th>\n",
       "      <td>nf_valuable</td>\n",
       "      <td>valuable, good_reputation, prestigious, recogn...</td>\n",
       "    </tr>\n",
       "    <tr>\n",
       "      <th>45</th>\n",
       "      <td>nf_warm</td>\n",
       "      <td>cheerful imaginative optimistic informal brave...</td>\n",
       "    </tr>\n",
       "  </tbody>\n",
       "</table>\n",
       "</div>"
      ],
      "text/plain": [
       "                    Dimension  \\\n",
       "0                  dg_Relaxed   \n",
       "1                dg_Confident   \n",
       "2                dg_Welcoming   \n",
       "3                   dg_Social   \n",
       "4                  dg_Playful   \n",
       "5             dg_Street-Smart   \n",
       "6              dg_Progressive   \n",
       "7                  dg_Stylish   \n",
       "8                dg_Inspiring   \n",
       "9                dg_Authentic   \n",
       "10                dg_Friendly   \n",
       "11                    dg_Bold   \n",
       "12               dg_Inclusive   \n",
       "13                     dg_Fun   \n",
       "14              dg_Passionate   \n",
       "15                 dg_Refined   \n",
       "16                 dg_pungent   \n",
       "17                   dg_bland   \n",
       "18                  dg_bitter   \n",
       "19              dg_caramellic   \n",
       "20                    dg_malt   \n",
       "21                     dg_raw   \n",
       "22                  dg_smooth   \n",
       "23                   dg_spicy   \n",
       "24                   dg_sweet   \n",
       "25                   dg_smoky   \n",
       "26    dg_fullness, complexity   \n",
       "27                   dg_grain   \n",
       "28                 dg_matured   \n",
       "29  dg_vanilla, confectionery   \n",
       "30               nf_appealing   \n",
       "31               nf_expensive   \n",
       "32             nf_fascination   \n",
       "33                   nf_fresh   \n",
       "34        nf_healthy_positive   \n",
       "35                  nf_winner   \n",
       "36                    nf_mild   \n",
       "37                  nf_modern   \n",
       "38                 nf_natural   \n",
       "39                     nf_new   \n",
       "40                nf_pleasant   \n",
       "41              nf_attractive   \n",
       "42                   nf_Tasty   \n",
       "43                  nf_trendy   \n",
       "44                nf_valuable   \n",
       "45                    nf_warm   \n",
       "\n",
       "                                              Content  \n",
       "0   relax unwind enjoy soothe calm serene leisurel...  \n",
       "1   confident optimistic hopeful reassure certainl...  \n",
       "2   welcome greet warmly hospitable invite graciou...  \n",
       "3           social civil collective community cordial  \n",
       "4   playful delightful lighthearted lively flirtat...  \n",
       "5   hardened astute cunning experienced savvy stre...  \n",
       "6              progressive dynamic enlightened modern  \n",
       "7   stylish classy chic trendy elegant fashionable...  \n",
       "8   inspired inspiration passionate incredible upl...  \n",
       "9              authentic genuine unique unpretentious  \n",
       "10  friendly courteous polite attentive nice enthu...  \n",
       "11  bold forceful adventurous courageous daring fe...  \n",
       "12  inclusive broad comprehensive involve represen...  \n",
       "13    fun playful frolic enjoy amuse excite adventure  \n",
       "14  passionate enthusiastic intensely energetic ha...  \n",
       "15  refine sophisticate distilled elegant aestheti...  \n",
       "16                  pungent acid acrid aromatic sharp  \n",
       "17              bland boring dull insipid tame watery  \n",
       "18             bitter harsh sour acid astringent tart  \n",
       "19                                caramellic, caramel  \n",
       "20                                               malt  \n",
       "21        raw basic coarse crude natural rough native  \n",
       "22  smooth creamy easy fluid gentle mild serene si...  \n",
       "23                   spicy aromatic fiery hot piquant  \n",
       "24                   sweet syrupy honeyed candy sugar  \n",
       "25                     smoky bruning dingy smoldering  \n",
       "26    fulness saturation totality wholeness ampleness  \n",
       "27                                         grain corn  \n",
       "28              matured cultivated cultured aged ripe  \n",
       "29                              vanilla confectionery  \n",
       "30  loved love positive desireable desire want asp...  \n",
       "31                  Costly Extravagant Pricey Upscale  \n",
       "32  fascination fascinated inspired intrigued capt...  \n",
       "33  fresh activate, awaken/wake, rebirth, refresh,...  \n",
       "34  high-antioxidant vitamin rich healthy energy-b...  \n",
       "35  winner champ first award medal champion pride ...  \n",
       "36  mild safe, (skin) friendly, natural, harmony, ...  \n",
       "37  Contemporary, Current, Present-day, Latest, Fr...  \n",
       "38  natural balanced beneficial biodegradable biod...  \n",
       "39                  new fresh all_new brand_new model  \n",
       "40  caress freedom health love peace cheer friend ...  \n",
       "41  aesthetic appealing artful attractive awe-insp...  \n",
       "42  delectable delicious delightful dreamy enjoyab...  \n",
       "43  trendy, trendy, stylish, fashionable, up-to-da...  \n",
       "44  valuable, good_reputation, prestigious, recogn...  \n",
       "45  cheerful imaginative optimistic informal brave...  "
      ]
     },
     "execution_count": 63,
     "metadata": {},
     "output_type": "execute_result"
    }
   ],
   "source": [
    "dimensions"
   ]
  },
  {
   "cell_type": "code",
   "execution_count": 70,
   "metadata": {
    "scrolled": false
   },
   "outputs": [
    {
     "data": {
      "text/plain": [
       "array([ 9.06485438e-01, -1.98477373e-01,  8.48460972e-01,  5.06138563e+00,\n",
       "       -3.58491254e+00, -5.24342251e+00,  5.03968716e+00,  2.46836782e+00,\n",
       "       -1.57667208e+00,  3.99307537e+00,  1.76606810e+00,  3.51971316e+00,\n",
       "       -4.82044071e-01, -2.96393442e+00,  2.98825812e+00,  6.34178686e+00,\n",
       "        3.41874695e+00, -6.80340719e+00,  4.09660864e+00,  5.15216875e+00,\n",
       "        3.51979280e+00, -4.18580437e+00,  3.18653941e+00, -3.74957824e+00,\n",
       "        1.15288007e+00, -2.67013967e-01,  1.72129333e+00,  5.33731580e-01,\n",
       "        2.77903152e+00, -1.31512821e+00, -2.85506964e+00,  3.73316312e+00,\n",
       "        4.30917382e-01,  6.46688700e-01, -2.00630832e+00, -4.01146173e+00,\n",
       "        5.12015915e+00, -1.14160228e+00, -1.69475943e-01,  1.98474956e+00,\n",
       "        1.78286088e+00,  3.90369368e+00,  5.79096746e+00, -2.19927490e-01,\n",
       "        2.61757046e-01,  5.17830372e+00, -2.64075136e+00,  2.06870794e+00,\n",
       "        5.47280967e-01, -3.30385590e+00, -8.56038928e-01, -4.75514501e-01,\n",
       "        3.94387341e+00,  1.09143674e-01, -6.03426039e-01, -1.34973133e+00,\n",
       "        3.27428842e+00, -2.80229259e+00, -4.77626145e-01,  1.29283297e+00,\n",
       "        5.55354834e+00,  9.01332438e-01, -1.55877161e+00, -4.53463268e+00,\n",
       "        2.13963652e+00, -1.07546020e+00,  6.53696299e+00, -7.99600720e-01,\n",
       "       -6.17332602e+00,  1.94697988e+00, -4.28815508e+00,  1.03155005e+00,\n",
       "        1.76698923e+00, -1.85405731e+00,  1.33702862e+00,  2.86152649e+00,\n",
       "        6.32328510e-01,  2.24009705e+00,  8.51441383e-01, -1.73647368e+00,\n",
       "       -2.50159001e+00, -2.40758276e+00,  9.04408246e-02,  2.84956002e+00,\n",
       "       -3.88290834e+00,  5.62183475e+00, -5.67891884e+00, -8.16111946e+00,\n",
       "        1.02777444e-01, -1.96949649e+00,  2.29127741e+00, -3.84789252e+00,\n",
       "        3.12923640e-01,  1.67492604e+00,  2.72113538e+00,  6.27761111e-02,\n",
       "        1.34323847e+00,  1.35528827e+00,  1.57018101e+00, -2.95322490e+00,\n",
       "       -3.71643901e+00, -1.36859441e+00, -2.15426636e+00,  2.20382905e+00,\n",
       "       -1.72538137e+00,  1.24814725e+00, -3.62931299e+00, -9.13453460e-01,\n",
       "        6.15609109e-01,  5.64997244e+00, -2.54918051e+00,  2.34480977e+00,\n",
       "       -5.52158165e+00,  2.27394342e+00, -5.51752985e-01, -8.01074922e-01,\n",
       "       -2.69635129e+00, -1.55174625e+00,  3.97891212e+00,  2.21870112e+00,\n",
       "        2.93047285e+00,  2.80307555e+00,  1.28822565e+00, -5.97411096e-01,\n",
       "        3.40552855e+00, -2.75879860e+00,  3.24524212e+00,  2.89134141e-02,\n",
       "       -1.37108445e+00,  1.83447206e+00,  1.88399255e+00, -2.57713556e+00,\n",
       "        6.64776325e-01, -2.74742746e+00,  2.79593182e+00,  8.51339531e+00,\n",
       "       -2.53119135e+00,  3.90246820e+00, -1.23728967e+00, -4.88556242e+00,\n",
       "       -4.69037628e+00, -1.87360287e+00,  5.68926156e-01,  2.63934469e+00,\n",
       "        6.67104626e+00,  4.16634142e-01,  1.57211030e+00, -3.32504368e+00,\n",
       "       -4.10897464e-01,  6.83572245e+00,  2.14557672e+00,  1.80315113e+00,\n",
       "        6.51508999e+00, -5.50631857e+00, -2.61806273e+00,  2.37750912e+00,\n",
       "       -1.84964263e+00,  7.75109947e-01,  2.04061699e+00,  3.43146300e+00,\n",
       "       -3.59472394e-01, -3.47933221e+00, -2.38779330e+00,  5.85458612e+00,\n",
       "       -1.18084848e+00, -4.33431005e+00,  1.42189467e+00,  5.20147848e+00,\n",
       "        1.39553809e+00, -9.28618371e-01, -1.47272241e+00, -1.01113157e+01,\n",
       "        2.57333088e+00, -3.43426919e+00,  2.24229550e+00,  6.85715675e-01,\n",
       "        1.02978969e+00, -6.41599989e+00,  1.37022400e+00,  3.93453431e+00,\n",
       "       -3.27325583e+00, -3.07413697e+00,  2.75602770e+00, -2.89031458e+00,\n",
       "        2.65484715e+00,  6.02423096e+00, -1.18483245e+00,  5.69854546e+00,\n",
       "        4.74288225e+00, -8.23963702e-01,  5.39400876e-01,  1.81501698e+00,\n",
       "       -4.21602905e-01, -2.03336406e+00,  5.80815196e-01,  7.31043768e+00,\n",
       "        3.05096602e+00,  3.32907653e+00, -2.19158471e-01,  7.52897549e+00,\n",
       "        3.10646963e+00, -3.36058879e+00,  3.59736776e+00, -1.66398573e+00,\n",
       "       -8.22522402e-01,  2.90328145e+00,  1.59353152e-01, -4.56288958e+00,\n",
       "        4.84640980e+00,  1.22581780e+00,  4.02553558e+00,  1.12130678e+00,\n",
       "        3.79142094e+00, -2.64037251e-01, -7.77512848e-01, -4.43426228e+00,\n",
       "        6.94359541e-01,  1.05557179e+00, -1.35258961e+00, -9.94197071e-01,\n",
       "       -6.61420882e-01,  3.14674401e+00,  2.38704419e+00, -3.13145971e+00,\n",
       "        2.60883260e+00, -2.76005149e+00,  2.62776423e+00, -2.36886001e+00,\n",
       "       -2.15144777e+00, -4.98627520e+00,  5.44017196e-01, -4.16678190e+00,\n",
       "        1.11070894e-01,  1.46445060e+00, -4.88169193e+00,  5.01160765e+00,\n",
       "        1.31169462e+00, -1.69968247e+00, -4.84377289e+00, -1.94947016e+00,\n",
       "       -5.89303255e+00,  5.45546234e-01,  3.67633224e+00,  4.41760492e+00,\n",
       "        1.48198295e+00, -3.22410655e+00, -2.24886680e+00,  5.37501991e-01,\n",
       "       -3.16579372e-01, -2.68361831e+00, -1.73043656e+00, -7.49064088e-02,\n",
       "       -1.10824358e+00,  1.86581218e+00, -4.23909807e+00,  6.26774132e-01,\n",
       "       -2.58218956e+00, -1.42846465e+00,  2.67448163e+00, -5.34153998e-01,\n",
       "       -2.43502438e-01, -1.45663536e+00,  2.25663662e-01, -1.74816275e+00,\n",
       "        8.87220919e-01, -2.79830146e+00,  6.89728081e-01, -7.80067682e-01,\n",
       "       -6.47324705e+00, -5.38199472e+00, -2.36818269e-01, -1.03294710e-03,\n",
       "        8.55997086e+00,  1.75901818e+00, -2.97663897e-01,  2.73983932e+00,\n",
       "       -2.34582472e+00, -2.05425477e+00, -2.07771301e+00, -3.55399489e+00,\n",
       "        2.27506280e+00,  8.92721832e-01,  2.91820228e-01,  2.54320455e+00,\n",
       "        1.56481183e+00, -2.63394475e+00,  4.68991846e-01, -5.99527538e-01,\n",
       "       -2.06074262e+00,  2.82175207e+00,  7.68843770e-01,  6.86129987e-01,\n",
       "        4.85894251e+00, -2.00659490e+00, -2.03069305e+00, -3.04517627e-01,\n",
       "       -5.91052961e+00, -3.22384024e+00, -4.10294342e+00, -4.01116991e+00],\n",
       "      dtype=float32)"
      ]
     },
     "execution_count": 70,
     "metadata": {},
     "output_type": "execute_result"
    }
   ],
   "source": [
    "emb['street']"
   ]
  },
  {
   "cell_type": "code",
   "execution_count": 71,
   "metadata": {
    "collapsed": true
   },
   "outputs": [],
   "source": [
    "additions = [{'Dimension': 'dg_flavour', 'Content': 'rich malt fruity simple delicate sweetness'},\n",
    "{'Dimension': 'dg_brand', 'Content': 'street wise street smart smart thinking'}]"
   ]
  },
  {
   "cell_type": "code",
   "execution_count": 73,
   "metadata": {},
   "outputs": [],
   "source": [
    "dimensions = dimensions.append(additions)"
   ]
  },
  {
   "cell_type": "code",
   "execution_count": 74,
   "metadata": {
    "collapsed": true
   },
   "outputs": [],
   "source": [
    "dimensions.to_csv('csv/dimensions.csv', index=False)"
   ]
  },
  {
   "cell_type": "markdown",
   "metadata": {},
   "source": [
    "## GET WORD VECTORS OF DIMENSIONS"
   ]
  },
  {
   "cell_type": "code",
   "execution_count": 124,
   "metadata": {
    "collapsed": true
   },
   "outputs": [],
   "source": [
    "dimensions['tokens'] = dimensions['Content'].str.lower().str.replace(r'[^a-z ]', '').str.split()"
   ]
  },
  {
   "cell_type": "code",
   "execution_count": 125,
   "metadata": {
    "collapsed": true,
    "scrolled": true
   },
   "outputs": [],
   "source": [
    "dimensions['wv'] = dimensions['tokens'].map(lambda x: get_average_vector(x, emb))"
   ]
  },
  {
   "cell_type": "code",
   "execution_count": 126,
   "metadata": {},
   "outputs": [
    {
     "data": {
      "text/html": [
       "<div>\n",
       "<style scoped>\n",
       "    .dataframe tbody tr th:only-of-type {\n",
       "        vertical-align: middle;\n",
       "    }\n",
       "\n",
       "    .dataframe tbody tr th {\n",
       "        vertical-align: top;\n",
       "    }\n",
       "\n",
       "    .dataframe thead th {\n",
       "        text-align: right;\n",
       "    }\n",
       "</style>\n",
       "<table border=\"1\" class=\"dataframe\">\n",
       "  <thead>\n",
       "    <tr style=\"text-align: right;\">\n",
       "      <th></th>\n",
       "      <th>Dimension</th>\n",
       "      <th>Content</th>\n",
       "      <th>tokens</th>\n",
       "      <th>wv</th>\n",
       "    </tr>\n",
       "  </thead>\n",
       "  <tbody>\n",
       "    <tr>\n",
       "      <th>0</th>\n",
       "      <td>dg_Relaxed</td>\n",
       "      <td>relax unwind enjoy soothe calm serene leisurel...</td>\n",
       "      <td>[relax, unwind, enjoy, soothe, calm, serene, l...</td>\n",
       "      <td>[-0.38982093, 1.0310897, -0.3649658, -1.062084...</td>\n",
       "    </tr>\n",
       "    <tr>\n",
       "      <th>1</th>\n",
       "      <td>dg_Confident</td>\n",
       "      <td>confident optimistic hopeful reassure certainl...</td>\n",
       "      <td>[confident, optimistic, hopeful, reassure, cer...</td>\n",
       "      <td>[0.35235944, -2.103267, 0.75326306, -2.0183167...</td>\n",
       "    </tr>\n",
       "    <tr>\n",
       "      <th>2</th>\n",
       "      <td>dg_Welcoming</td>\n",
       "      <td>welcome greet warmly hospitable invite graciou...</td>\n",
       "      <td>[welcome, greet, warmly, hospitable, invite, g...</td>\n",
       "      <td>[0.32264853, -1.3409846, 0.8682901, -1.4583006...</td>\n",
       "    </tr>\n",
       "    <tr>\n",
       "      <th>3</th>\n",
       "      <td>dg_Social</td>\n",
       "      <td>social civil collective community cordial</td>\n",
       "      <td>[social, civil, collective, community, cordial]</td>\n",
       "      <td>[0.95336664, -1.0829761, 1.1170304, -0.0309140...</td>\n",
       "    </tr>\n",
       "    <tr>\n",
       "      <th>4</th>\n",
       "      <td>dg_Playful</td>\n",
       "      <td>playful delightful lighthearted lively flirtat...</td>\n",
       "      <td>[playful, delightful, lighthearted, lively, fl...</td>\n",
       "      <td>[-0.72059196, -0.50438666, -0.35774776, -1.436...</td>\n",
       "    </tr>\n",
       "  </tbody>\n",
       "</table>\n",
       "</div>"
      ],
      "text/plain": [
       "      Dimension                                            Content  \\\n",
       "0    dg_Relaxed  relax unwind enjoy soothe calm serene leisurel...   \n",
       "1  dg_Confident  confident optimistic hopeful reassure certainl...   \n",
       "2  dg_Welcoming  welcome greet warmly hospitable invite graciou...   \n",
       "3     dg_Social          social civil collective community cordial   \n",
       "4    dg_Playful  playful delightful lighthearted lively flirtat...   \n",
       "\n",
       "                                              tokens  \\\n",
       "0  [relax, unwind, enjoy, soothe, calm, serene, l...   \n",
       "1  [confident, optimistic, hopeful, reassure, cer...   \n",
       "2  [welcome, greet, warmly, hospitable, invite, g...   \n",
       "3    [social, civil, collective, community, cordial]   \n",
       "4  [playful, delightful, lighthearted, lively, fl...   \n",
       "\n",
       "                                                  wv  \n",
       "0  [-0.38982093, 1.0310897, -0.3649658, -1.062084...  \n",
       "1  [0.35235944, -2.103267, 0.75326306, -2.0183167...  \n",
       "2  [0.32264853, -1.3409846, 0.8682901, -1.4583006...  \n",
       "3  [0.95336664, -1.0829761, 1.1170304, -0.0309140...  \n",
       "4  [-0.72059196, -0.50438666, -0.35774776, -1.436...  "
      ]
     },
     "execution_count": 126,
     "metadata": {},
     "output_type": "execute_result"
    }
   ],
   "source": [
    "dimensions.head()"
   ]
  },
  {
   "cell_type": "code",
   "execution_count": 127,
   "metadata": {},
   "outputs": [
    {
     "data": {
      "text/plain": [
       "48"
      ]
     },
     "execution_count": 127,
     "metadata": {},
     "output_type": "execute_result"
    }
   ],
   "source": [
    "dimensions.shape[0]"
   ]
  },
  {
   "cell_type": "markdown",
   "metadata": {},
   "source": [
    "# LOAD CANDIDATE WORDS"
   ]
  },
  {
   "cell_type": "code",
   "execution_count": 90,
   "metadata": {
    "collapsed": true
   },
   "outputs": [],
   "source": [
    "diageo_words_doc_id = '1Vc_NYmC69G0KkdvrUS79jhhu85p5wkhfGnwc9aHTDeM'\n",
    "diageo_words_doc = download_sheets_doc(diageo_words_doc_id, has_column_labels=True)"
   ]
  },
  {
   "cell_type": "code",
   "execution_count": 91,
   "metadata": {
    "collapsed": true
   },
   "outputs": [],
   "source": [
    "ingredients = ['malt', 'grain']\n",
    "flavors = ['sweet, sweetness',\n",
    "           'richness, rich',\n",
    "           'smooth, smoothness',\n",
    "           'fruity',\n",
    "           'woody wood taste']\n",
    "smart_thinking = ['streetwise, streetsmart, thinking, clever, sharp, ease', 'smooth, smoothness']"
   ]
  },
  {
   "cell_type": "code",
   "execution_count": 92,
   "metadata": {
    "collapsed": true
   },
   "outputs": [],
   "source": [
    "def get_words_from_df(df):\n",
    "    return list(df['Word'].values)"
   ]
  },
  {
   "cell_type": "code",
   "execution_count": 100,
   "metadata": {
    "collapsed": true
   },
   "outputs": [],
   "source": [
    "def filter_words_on_cutoff(words, word2rank_dict, cutoff):\n",
    "    return [word for word in words if word2rank_dict[word] < cutoff]"
   ]
  },
  {
   "cell_type": "code",
   "execution_count": 117,
   "metadata": {
    "collapsed": true,
    "scrolled": true
   },
   "outputs": [],
   "source": [
    "def get_words_for_hook(sheet_dict, hook_keys, word2rank_dict, cutoff):\n",
    "    container = []\n",
    "    for key in hook_keys:\n",
    "        container.extend(get_words_from_df(sheet_dict[key]))\n",
    "    words = filter_words_on_cutoff(set(container), word2rank_dict, cutoff)\n",
    "    return words"
   ]
  },
  {
   "cell_type": "code",
   "execution_count": 118,
   "metadata": {},
   "outputs": [],
   "source": [
    "words_ingredients = get_words_for_hook(diageo_words_doc, ingredients, word2rank_dict, cutoff)\n",
    "words_flavors = get_words_for_hook(diageo_words_doc, flavors, word2rank_dict, cutoff)\n",
    "words_smart_thinking = get_words_for_hook(diageo_words_doc, smart_thinking, word2rank_dict, cutoff)"
   ]
  },
  {
   "cell_type": "code",
   "execution_count": 111,
   "metadata": {},
   "outputs": [
    {
     "name": "stdout",
     "output_type": "stream",
     "text": [
      "99\n",
      "193\n",
      "91\n"
     ]
    }
   ],
   "source": [
    "# number words before filtering"
   ]
  },
  {
   "cell_type": "code",
   "execution_count": 114,
   "metadata": {},
   "outputs": [
    {
     "name": "stdout",
     "output_type": "stream",
     "text": [
      "43\n",
      "134\n",
      "69\n"
     ]
    }
   ],
   "source": [
    "# number words after filtering"
   ]
  },
  {
   "cell_type": "code",
   "execution_count": 115,
   "metadata": {
    "collapsed": true
   },
   "outputs": [],
   "source": [
    "def get_df_for_hook(words):\n",
    "    df = pd.DataFrame(list(words), columns = ['word'])\n",
    "    df['wv'] = df['word'].map(lambda x: get_average_vector([x], emb))\n",
    "    return df"
   ]
  },
  {
   "cell_type": "code",
   "execution_count": 120,
   "metadata": {},
   "outputs": [],
   "source": [
    "df_ingredients = get_df_for_hook(words_ingredients)\n",
    "df_flavors = get_df_for_hook(words_flavors)\n",
    "df_smart_thinking = get_df_for_hook(words_smart_thinking)"
   ]
  },
  {
   "cell_type": "markdown",
   "metadata": {},
   "source": [
    "# GET SIMILARITY OF WORDS WITH DIMENSIONS"
   ]
  },
  {
   "cell_type": "code",
   "execution_count": 121,
   "metadata": {
    "collapsed": true
   },
   "outputs": [],
   "source": [
    "def cosine_similarity(a,b):\n",
    "    \"\"\"\n",
    "        Compute the cosine similarity of a and b.\n",
    "    \"\"\"\n",
    "    return np.dot(a,b) / ( (np.dot(a,a) **.5) * (np.dot(b,b) ** .5) )"
   ]
  },
  {
   "cell_type": "code",
   "execution_count": 122,
   "metadata": {
    "collapsed": true,
    "scrolled": true
   },
   "outputs": [],
   "source": [
    "def get_similarity_with_dimensions(row, dimensions):\n",
    "    \"\"\"\n",
    "        Get similarity of row's word vector and every dimension.\n",
    "        row : row of the movie dataframe\n",
    "        dimensions : dataframe containing Neuroflash dimensions\n",
    "    \"\"\"\n",
    "    for k in range(dimensions['Dimension'].shape[0]):\n",
    "        name = 'dim_' + str(dimensions['Dimension'].iloc[k])\n",
    "        # define a new column for the cosine similarity of dimension k and the post text\n",
    "        row[name] = cosine_similarity(row['wv'], dimensions['wv'].iloc[k])\n",
    "    return row"
   ]
  },
  {
   "cell_type": "code",
   "execution_count": 128,
   "metadata": {
    "scrolled": true
   },
   "outputs": [],
   "source": [
    "df_ingredients = df_ingredients.apply(lambda x: get_similarity_with_dimensions(x, dimensions), axis=1)\n",
    "df_flavors = df_flavors.apply(lambda x: get_similarity_with_dimensions(x, dimensions), axis=1)\n",
    "df_smart_thinking = df_smart_thinking.apply(lambda x: get_similarity_with_dimensions(x, dimensions), axis=1)"
   ]
  },
  {
   "cell_type": "code",
   "execution_count": 129,
   "metadata": {
    "collapsed": true
   },
   "outputs": [],
   "source": [
    "df_ingredients.drop(columns=['wv']).to_csv('csv/sim_ingredients.csv', index=False)\n",
    "df_flavors.drop(columns=['wv']).to_csv('csv/sim_flavors.csv', index=False)\n",
    "df_smart_thinking.drop(columns=['wv']).to_csv('csv/sim_smart_thinking.csv', index=False)"
   ]
  },
  {
   "cell_type": "code",
   "execution_count": 132,
   "metadata": {
    "collapsed": true
   },
   "outputs": [],
   "source": [
    "def sum_over_dimensions(df, nf_only = True):\n",
    "    if nf_only:\n",
    "        consider = df[[x for x in df.columns if 'dim_nf' in x]]\n",
    "        labels = ['word', 'sum_over_NF_dims']\n",
    "    else:\n",
    "        consider = df[[x for x in df.columns if 'dim' in x]]\n",
    "        labels = ['word', 'sum_over_dims']\n",
    "    sum_df = pd.concat([df.iloc[:,0], consider.sum(axis=1)], axis=1)\n",
    "    sum_df.columns = labels\n",
    "    return sum_df.sort_values(labels[1], ascending=False)"
   ]
  },
  {
   "cell_type": "code",
   "execution_count": 133,
   "metadata": {},
   "outputs": [
    {
     "data": {
      "text/html": [
       "<div>\n",
       "<style scoped>\n",
       "    .dataframe tbody tr th:only-of-type {\n",
       "        vertical-align: middle;\n",
       "    }\n",
       "\n",
       "    .dataframe tbody tr th {\n",
       "        vertical-align: top;\n",
       "    }\n",
       "\n",
       "    .dataframe thead th {\n",
       "        text-align: right;\n",
       "    }\n",
       "</style>\n",
       "<table border=\"1\" class=\"dataframe\">\n",
       "  <thead>\n",
       "    <tr style=\"text-align: right;\">\n",
       "      <th></th>\n",
       "      <th>word</th>\n",
       "      <th>sum_over_NF_dims</th>\n",
       "    </tr>\n",
       "  </thead>\n",
       "  <tbody>\n",
       "    <tr>\n",
       "      <th>33</th>\n",
       "      <td>fruity</td>\n",
       "      <td>3.792745</td>\n",
       "    </tr>\n",
       "    <tr>\n",
       "      <th>0</th>\n",
       "      <td>vegetable</td>\n",
       "      <td>2.004845</td>\n",
       "    </tr>\n",
       "    <tr>\n",
       "      <th>34</th>\n",
       "      <td>coarse</td>\n",
       "      <td>1.630495</td>\n",
       "    </tr>\n",
       "    <tr>\n",
       "      <th>11</th>\n",
       "      <td>grain</td>\n",
       "      <td>1.601987</td>\n",
       "    </tr>\n",
       "    <tr>\n",
       "      <th>31</th>\n",
       "      <td>beer</td>\n",
       "      <td>1.475540</td>\n",
       "    </tr>\n",
       "    <tr>\n",
       "      <th>42</th>\n",
       "      <td>whisky</td>\n",
       "      <td>1.430165</td>\n",
       "    </tr>\n",
       "    <tr>\n",
       "      <th>10</th>\n",
       "      <td>milk</td>\n",
       "      <td>1.418264</td>\n",
       "    </tr>\n",
       "    <tr>\n",
       "      <th>1</th>\n",
       "      <td>distill</td>\n",
       "      <td>1.395086</td>\n",
       "    </tr>\n",
       "    <tr>\n",
       "      <th>39</th>\n",
       "      <td>vodka</td>\n",
       "      <td>1.344687</td>\n",
       "    </tr>\n",
       "    <tr>\n",
       "      <th>29</th>\n",
       "      <td>malt</td>\n",
       "      <td>1.321468</td>\n",
       "    </tr>\n",
       "    <tr>\n",
       "      <th>16</th>\n",
       "      <td>scotch</td>\n",
       "      <td>1.218355</td>\n",
       "    </tr>\n",
       "    <tr>\n",
       "      <th>35</th>\n",
       "      <td>harvest</td>\n",
       "      <td>1.212052</td>\n",
       "    </tr>\n",
       "    <tr>\n",
       "      <th>27</th>\n",
       "      <td>crop</td>\n",
       "      <td>1.211005</td>\n",
       "    </tr>\n",
       "    <tr>\n",
       "      <th>37</th>\n",
       "      <td>whiskey</td>\n",
       "      <td>1.208567</td>\n",
       "    </tr>\n",
       "    <tr>\n",
       "      <th>14</th>\n",
       "      <td>oat</td>\n",
       "      <td>1.199281</td>\n",
       "    </tr>\n",
       "    <tr>\n",
       "      <th>6</th>\n",
       "      <td>liqueur</td>\n",
       "      <td>1.149514</td>\n",
       "    </tr>\n",
       "    <tr>\n",
       "      <th>40</th>\n",
       "      <td>rice</td>\n",
       "      <td>1.042144</td>\n",
       "    </tr>\n",
       "    <tr>\n",
       "      <th>7</th>\n",
       "      <td>cereal</td>\n",
       "      <td>1.029744</td>\n",
       "    </tr>\n",
       "    <tr>\n",
       "      <th>17</th>\n",
       "      <td>corn</td>\n",
       "      <td>0.939915</td>\n",
       "    </tr>\n",
       "    <tr>\n",
       "      <th>38</th>\n",
       "      <td>sugar</td>\n",
       "      <td>0.926958</td>\n",
       "    </tr>\n",
       "  </tbody>\n",
       "</table>\n",
       "</div>"
      ],
      "text/plain": [
       "         word  sum_over_NF_dims\n",
       "33     fruity          3.792745\n",
       "0   vegetable          2.004845\n",
       "34     coarse          1.630495\n",
       "11      grain          1.601987\n",
       "31       beer          1.475540\n",
       "42     whisky          1.430165\n",
       "10       milk          1.418264\n",
       "1     distill          1.395086\n",
       "39      vodka          1.344687\n",
       "29       malt          1.321468\n",
       "16     scotch          1.218355\n",
       "35    harvest          1.212052\n",
       "27       crop          1.211005\n",
       "37    whiskey          1.208567\n",
       "14        oat          1.199281\n",
       "6     liqueur          1.149514\n",
       "40       rice          1.042144\n",
       "7      cereal          1.029744\n",
       "17       corn          0.939915\n",
       "38      sugar          0.926958"
      ]
     },
     "execution_count": 133,
     "metadata": {},
     "output_type": "execute_result"
    }
   ],
   "source": [
    "sum_over_dimensions(df_ingredients).head(20)"
   ]
  },
  {
   "cell_type": "code",
   "execution_count": 134,
   "metadata": {
    "scrolled": false
   },
   "outputs": [
    {
     "data": {
      "text/html": [
       "<div>\n",
       "<style scoped>\n",
       "    .dataframe tbody tr th:only-of-type {\n",
       "        vertical-align: middle;\n",
       "    }\n",
       "\n",
       "    .dataframe tbody tr th {\n",
       "        vertical-align: top;\n",
       "    }\n",
       "\n",
       "    .dataframe thead th {\n",
       "        text-align: right;\n",
       "    }\n",
       "</style>\n",
       "<table border=\"1\" class=\"dataframe\">\n",
       "  <thead>\n",
       "    <tr style=\"text-align: right;\">\n",
       "      <th></th>\n",
       "      <th>word</th>\n",
       "      <th>sum_over_NF_dims</th>\n",
       "    </tr>\n",
       "  </thead>\n",
       "  <tbody>\n",
       "    <tr>\n",
       "      <th>51</th>\n",
       "      <td>truly</td>\n",
       "      <td>5.599674</td>\n",
       "    </tr>\n",
       "    <tr>\n",
       "      <th>70</th>\n",
       "      <td>charm</td>\n",
       "      <td>5.391906</td>\n",
       "    </tr>\n",
       "    <tr>\n",
       "      <th>37</th>\n",
       "      <td>wonderfully</td>\n",
       "      <td>5.264797</td>\n",
       "    </tr>\n",
       "    <tr>\n",
       "      <th>64</th>\n",
       "      <td>subtle</td>\n",
       "      <td>5.234277</td>\n",
       "    </tr>\n",
       "    <tr>\n",
       "      <th>60</th>\n",
       "      <td>vibrant</td>\n",
       "      <td>5.204802</td>\n",
       "    </tr>\n",
       "    <tr>\n",
       "      <th>111</th>\n",
       "      <td>comfortable</td>\n",
       "      <td>5.190671</td>\n",
       "    </tr>\n",
       "    <tr>\n",
       "      <th>121</th>\n",
       "      <td>unique</td>\n",
       "      <td>5.128155</td>\n",
       "    </tr>\n",
       "    <tr>\n",
       "      <th>118</th>\n",
       "      <td>delicate</td>\n",
       "      <td>4.999129</td>\n",
       "    </tr>\n",
       "    <tr>\n",
       "      <th>103</th>\n",
       "      <td>earthy</td>\n",
       "      <td>4.872749</td>\n",
       "    </tr>\n",
       "    <tr>\n",
       "      <th>84</th>\n",
       "      <td>exquisite</td>\n",
       "      <td>4.834724</td>\n",
       "    </tr>\n",
       "    <tr>\n",
       "      <th>34</th>\n",
       "      <td>sophistication</td>\n",
       "      <td>4.791359</td>\n",
       "    </tr>\n",
       "    <tr>\n",
       "      <th>46</th>\n",
       "      <td>perfectly</td>\n",
       "      <td>4.754438</td>\n",
       "    </tr>\n",
       "    <tr>\n",
       "      <th>74</th>\n",
       "      <td>richness</td>\n",
       "      <td>4.682832</td>\n",
       "    </tr>\n",
       "    <tr>\n",
       "      <th>66</th>\n",
       "      <td>elegance</td>\n",
       "      <td>4.664429</td>\n",
       "    </tr>\n",
       "    <tr>\n",
       "      <th>45</th>\n",
       "      <td>luxurious</td>\n",
       "      <td>4.605415</td>\n",
       "    </tr>\n",
       "    <tr>\n",
       "      <th>36</th>\n",
       "      <td>decadent</td>\n",
       "      <td>4.589819</td>\n",
       "    </tr>\n",
       "    <tr>\n",
       "      <th>62</th>\n",
       "      <td>effortless</td>\n",
       "      <td>4.583854</td>\n",
       "    </tr>\n",
       "    <tr>\n",
       "      <th>101</th>\n",
       "      <td>gentle</td>\n",
       "      <td>4.551089</td>\n",
       "    </tr>\n",
       "    <tr>\n",
       "      <th>120</th>\n",
       "      <td>delicious</td>\n",
       "      <td>4.507097</td>\n",
       "    </tr>\n",
       "    <tr>\n",
       "      <th>122</th>\n",
       "      <td>abundance</td>\n",
       "      <td>4.370026</td>\n",
       "    </tr>\n",
       "  </tbody>\n",
       "</table>\n",
       "</div>"
      ],
      "text/plain": [
       "               word  sum_over_NF_dims\n",
       "51            truly          5.599674\n",
       "70            charm          5.391906\n",
       "37      wonderfully          5.264797\n",
       "64           subtle          5.234277\n",
       "60          vibrant          5.204802\n",
       "111     comfortable          5.190671\n",
       "121          unique          5.128155\n",
       "118        delicate          4.999129\n",
       "103          earthy          4.872749\n",
       "84        exquisite          4.834724\n",
       "34   sophistication          4.791359\n",
       "46        perfectly          4.754438\n",
       "74         richness          4.682832\n",
       "66         elegance          4.664429\n",
       "45        luxurious          4.605415\n",
       "36         decadent          4.589819\n",
       "62       effortless          4.583854\n",
       "101          gentle          4.551089\n",
       "120       delicious          4.507097\n",
       "122       abundance          4.370026"
      ]
     },
     "execution_count": 134,
     "metadata": {},
     "output_type": "execute_result"
    }
   ],
   "source": [
    "sum_over_dimensions(df_flavors).head(20)"
   ]
  },
  {
   "cell_type": "code",
   "execution_count": 135,
   "metadata": {
    "scrolled": false
   },
   "outputs": [
    {
     "data": {
      "text/html": [
       "<div>\n",
       "<style scoped>\n",
       "    .dataframe tbody tr th:only-of-type {\n",
       "        vertical-align: middle;\n",
       "    }\n",
       "\n",
       "    .dataframe tbody tr th {\n",
       "        vertical-align: top;\n",
       "    }\n",
       "\n",
       "    .dataframe thead th {\n",
       "        text-align: right;\n",
       "    }\n",
       "</style>\n",
       "<table border=\"1\" class=\"dataframe\">\n",
       "  <thead>\n",
       "    <tr style=\"text-align: right;\">\n",
       "      <th></th>\n",
       "      <th>word</th>\n",
       "      <th>sum_over_NF_dims</th>\n",
       "    </tr>\n",
       "  </thead>\n",
       "  <tbody>\n",
       "    <tr>\n",
       "      <th>4</th>\n",
       "      <td>attractive</td>\n",
       "      <td>5.384535</td>\n",
       "    </tr>\n",
       "    <tr>\n",
       "      <th>33</th>\n",
       "      <td>subtle</td>\n",
       "      <td>5.234277</td>\n",
       "    </tr>\n",
       "    <tr>\n",
       "      <th>52</th>\n",
       "      <td>comfortable</td>\n",
       "      <td>5.190671</td>\n",
       "    </tr>\n",
       "    <tr>\n",
       "      <th>42</th>\n",
       "      <td>simplicity</td>\n",
       "      <td>5.079498</td>\n",
       "    </tr>\n",
       "    <tr>\n",
       "      <th>40</th>\n",
       "      <td>sophisticate</td>\n",
       "      <td>5.023508</td>\n",
       "    </tr>\n",
       "    <tr>\n",
       "      <th>61</th>\n",
       "      <td>delicate</td>\n",
       "      <td>4.999129</td>\n",
       "    </tr>\n",
       "    <tr>\n",
       "      <th>20</th>\n",
       "      <td>perfectly</td>\n",
       "      <td>4.754438</td>\n",
       "    </tr>\n",
       "    <tr>\n",
       "      <th>30</th>\n",
       "      <td>effortless</td>\n",
       "      <td>4.583854</td>\n",
       "    </tr>\n",
       "    <tr>\n",
       "      <th>63</th>\n",
       "      <td>simple</td>\n",
       "      <td>4.563620</td>\n",
       "    </tr>\n",
       "    <tr>\n",
       "      <th>46</th>\n",
       "      <td>gentle</td>\n",
       "      <td>4.551089</td>\n",
       "    </tr>\n",
       "    <tr>\n",
       "      <th>55</th>\n",
       "      <td>accentuate</td>\n",
       "      <td>4.381770</td>\n",
       "    </tr>\n",
       "    <tr>\n",
       "      <th>41</th>\n",
       "      <td>surprisingly</td>\n",
       "      <td>4.348716</td>\n",
       "    </tr>\n",
       "    <tr>\n",
       "      <th>5</th>\n",
       "      <td>texture</td>\n",
       "      <td>4.217356</td>\n",
       "    </tr>\n",
       "    <tr>\n",
       "      <th>27</th>\n",
       "      <td>effortlessly</td>\n",
       "      <td>4.139211</td>\n",
       "    </tr>\n",
       "    <tr>\n",
       "      <th>28</th>\n",
       "      <td>sleek</td>\n",
       "      <td>3.983890</td>\n",
       "    </tr>\n",
       "    <tr>\n",
       "      <th>14</th>\n",
       "      <td>predictable</td>\n",
       "      <td>3.825299</td>\n",
       "    </tr>\n",
       "    <tr>\n",
       "      <th>60</th>\n",
       "      <td>soft</td>\n",
       "      <td>3.635670</td>\n",
       "    </tr>\n",
       "    <tr>\n",
       "      <th>65</th>\n",
       "      <td>silky</td>\n",
       "      <td>3.596671</td>\n",
       "    </tr>\n",
       "    <tr>\n",
       "      <th>67</th>\n",
       "      <td>witty</td>\n",
       "      <td>3.586665</td>\n",
       "    </tr>\n",
       "    <tr>\n",
       "      <th>43</th>\n",
       "      <td>flawless</td>\n",
       "      <td>3.510130</td>\n",
       "    </tr>\n",
       "  </tbody>\n",
       "</table>\n",
       "</div>"
      ],
      "text/plain": [
       "            word  sum_over_NF_dims\n",
       "4     attractive          5.384535\n",
       "33        subtle          5.234277\n",
       "52   comfortable          5.190671\n",
       "42    simplicity          5.079498\n",
       "40  sophisticate          5.023508\n",
       "61      delicate          4.999129\n",
       "20     perfectly          4.754438\n",
       "30    effortless          4.583854\n",
       "63        simple          4.563620\n",
       "46        gentle          4.551089\n",
       "55    accentuate          4.381770\n",
       "41  surprisingly          4.348716\n",
       "5        texture          4.217356\n",
       "27  effortlessly          4.139211\n",
       "28         sleek          3.983890\n",
       "14   predictable          3.825299\n",
       "60          soft          3.635670\n",
       "65         silky          3.596671\n",
       "67         witty          3.586665\n",
       "43      flawless          3.510130"
      ]
     },
     "execution_count": 135,
     "metadata": {},
     "output_type": "execute_result"
    }
   ],
   "source": [
    "sum_over_dimensions(df_smart_thinking).head(20)"
   ]
  },
  {
   "cell_type": "code",
   "execution_count": 136,
   "metadata": {
    "collapsed": true
   },
   "outputs": [],
   "source": [
    "sum_over_dimensions(df_ingredients).to_csv('csv/top_ingredients.csv', index=False)\n",
    "sum_over_dimensions(df_flavors).to_csv('csv/top_flavors.csv', index=False)\n",
    "sum_over_dimensions(df_smart_thinking).to_csv('csv/top_smart_thinking.csv', index=False)"
   ]
  },
  {
   "cell_type": "code",
   "execution_count": null,
   "metadata": {
    "collapsed": true
   },
   "outputs": [],
   "source": []
  },
  {
   "cell_type": "markdown",
   "metadata": {},
   "source": [
    "# Plots"
   ]
  },
  {
   "cell_type": "code",
   "execution_count": 137,
   "metadata": {
    "collapsed": true
   },
   "outputs": [],
   "source": [
    "top_ingredients = pd.read_csv('csv/top_ingredients.csv')\n",
    "top_flavors = pd.read_csv('csv/top_flavors.csv')\n",
    "top_smart_thinking = pd.read_csv('csv/top_smart_thinking.csv')"
   ]
  },
  {
   "cell_type": "code",
   "execution_count": 142,
   "metadata": {
    "collapsed": true
   },
   "outputs": [],
   "source": [
    "def plot_bargraph(df, hook):\n",
    "    plt.figure(figsize=(17,9))\n",
    "    plt.title('Hook: {}'.format(hook), size=20)\n",
    "    plt.bar(range(min(50, df.shape[0])), df.set_index('word').head(min(50, df.shape[0])).sort_values('sum_over_NF_dims').values)\n",
    "    plt.xticks(range(min(50, df.shape[0])),  df.head(min(50, df.shape[0])).sort_values('sum_over_NF_dims')['word'], rotation=90, size=15);\n",
    "    plt.ylabel('Sum of Similarity over Whiskey Dims', size=20)\n",
    "    plt.savefig('plot/topwords_{}.png'.format(hook), bbox_inches='tight', dpi=300)"
   ]
  },
  {
   "cell_type": "code",
   "execution_count": 143,
   "metadata": {
    "scrolled": false
   },
   "outputs": [
    {
     "data": {
      "image/png": "[encoded data removed]",
      "text/plain": [
       "<matplotlib.figure.Figure at 0x14649ecf8>"
      ]
     },
     "metadata": {},
     "output_type": "display_data"
    },
    {
     "data": {
      "image/png": "[encoded data removed]",
      "text/plain": [
       "<matplotlib.figure.Figure at 0x14649e9b0>"
      ]
     },
     "metadata": {},
     "output_type": "display_data"
    },
    {
     "data": {
      "image/png": "[encoded data removed]",
      "text/plain": [
       "<matplotlib.figure.Figure at 0x1292a70b8>"
      ]
     },
     "metadata": {},
     "output_type": "display_data"
    }
   ],
   "source": [
    "plot_bargraph(top_ingredients, 'ingredients')\n",
    "plot_bargraph(top_flavors, 'flavors')\n",
    "plot_bargraph(top_smart_thinking, 'smart_thinking')"
   ]
  },
  {
   "cell_type": "code",
   "execution_count": null,
   "metadata": {
    "collapsed": true
   },
   "outputs": [],
   "source": []
  }
 ],
 "metadata": {
  "kernelspec": {
   "display_name": "Python 3",
   "language": "python",
   "name": "python3"
  },
  "language_info": {
   "codemirror_mode": {
    "name": "ipython",
    "version": 3
   },
   "file_extension": ".py",
   "mimetype": "text/x-python",
   "name": "python",
   "nbconvert_exporter": "python",
   "pygments_lexer": "ipython3",
   "version": "3.6.1"
  }
 },
 "nbformat": 4,
 "nbformat_minor": 2
}
