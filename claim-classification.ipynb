{
 "cells": [
  {
   "cell_type": "code",
   "execution_count": 1,
   "metadata": {
    "collapsed": true
   },
   "outputs": [],
   "source": [
    "import pandas as pd"
   ]
  },
  {
   "cell_type": "code",
   "execution_count": 5,
   "metadata": {},
   "outputs": [],
   "source": [
    "b1 = pd.read_csv('csv/Diageo Bubble Graph Lists 180069 - McDowell No1.csv')\n",
    "b2 = pd.read_csv('csv/Diageo Bubble Graph Lists 180069 - McD extended.csv')\n",
    "b3 = pd.read_csv('csv/Diageo Bubble Graph Lists 180069 - Copy of McD extended.csv')\n",
    "b4 = pd.read_csv('csv/Diageo Bubble Graph Lists 180069 - Copy of Copy of McD extended.csv')"
   ]
  },
  {
   "cell_type": "code",
   "execution_count": 15,
   "metadata": {},
   "outputs": [],
   "source": [
    "candidates = list(set(list(b1[b1['Select']==1]['Word'].values) + list(b2[b2['Select']==1]['Word'].values) + list(b3[b3['Select']==1]['Word'].values) + list(b4[b4['Select']==1]['Word'].values)))"
   ]
  },
  {
   "cell_type": "code",
   "execution_count": 21,
   "metadata": {
    "scrolled": true
   },
   "outputs": [
    {
     "data": {
      "text/plain": [
       "['openness',\n",
       " 'unpretentious',\n",
       " 'cheery',\n",
       " 'demeanor',\n",
       " 'greet',\n",
       " 'compliment',\n",
       " 'cheerfulness',\n",
       " 'wonderful',\n",
       " 'informality',\n",
       " 'friendliness',\n",
       " 'cheerful',\n",
       " 'homey',\n",
       " 'camaraderie',\n",
       " 'truly',\n",
       " 'affable',\n",
       " 'enthusiastic',\n",
       " 'harmonious',\n",
       " 'amiable',\n",
       " 'considerate',\n",
       " 'warmly',\n",
       " 'unfailingly',\n",
       " 'appreciative',\n",
       " 'courteous',\n",
       " 'exemplify',\n",
       " 'sociable',\n",
       " 'thoughtful',\n",
       " 'cordiality',\n",
       " 'demeanour',\n",
       " 'cordially',\n",
       " 'joyful',\n",
       " 'graciousness',\n",
       " 'embrace',\n",
       " 'invite',\n",
       " 'politeness',\n",
       " 'neighborly',\n",
       " 'smile',\n",
       " 'congenial',\n",
       " 'gracious',\n",
       " 'respectful',\n",
       " 'delight',\n",
       " 'dignify',\n",
       " 'hearten',\n",
       " 'cheerfully',\n",
       " 'passionate',\n",
       " 'candour',\n",
       " 'hospitality',\n",
       " 'thoughtfulness',\n",
       " 'joyous',\n",
       " 'welcome',\n",
       " 'empathetic',\n",
       " 'warmth',\n",
       " 'endear',\n",
       " 'personable',\n",
       " 'enthusiastically',\n",
       " 'enlighten',\n",
       " 'civility',\n",
       " 'cordial',\n",
       " 'hospitable',\n",
       " 'jovial',\n",
       " 'applaud',\n",
       " 'wonderfully',\n",
       " 'convivial',\n",
       " 'approachable',\n",
       " 'appreciate',\n",
       " 'effusive',\n",
       " 'homely']"
      ]
     },
     "execution_count": 21,
     "metadata": {},
     "output_type": "execute_result"
    }
   ],
   "source": [
    "candidates"
   ]
  },
  {
   "cell_type": "code",
   "execution_count": null,
   "metadata": {
    "collapsed": true
   },
   "outputs": [],
   "source": [
    "brand_purpose = []\n",
    "brand_myth =\n",
    "product_ingredients =\n",
    "product_benefits = ['openness']"
   ]
  },
  {
   "cell_type": "code",
   "execution_count": 22,
   "metadata": {},
   "outputs": [
    {
     "data": {
      "text/plain": [
       "'/Users/piocalderon/anaconda/lib/python3.6/site-packages/matplotlib/mpl-data/matplotlibrc'"
      ]
     },
     "execution_count": 22,
     "metadata": {},
     "output_type": "execute_result"
    }
   ],
   "source": [
    "import matplotlib\n",
    "matplotlib.matplotlib_fname()\n"
   ]
  },
  {
   "cell_type": "code",
   "execution_count": null,
   "metadata": {
    "collapsed": true
   },
   "outputs": [],
   "source": []
  }
 ],
 "metadata": {
  "kernelspec": {
   "display_name": "Python 3",
   "language": "python",
   "name": "python3"
  },
  "language_info": {
   "codemirror_mode": {
    "name": "ipython",
    "version": 3
   },
   "file_extension": ".py",
   "mimetype": "text/x-python",
   "name": "python",
   "nbconvert_exporter": "python",
   "pygments_lexer": "ipython3",
   "version": "3.6.1"
  }
 },
 "nbformat": 4,
 "nbformat_minor": 2
}
